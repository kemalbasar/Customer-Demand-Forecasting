{
 "nbformat": 4,
 "nbformat_minor": 0,
 "metadata": {
  "colab": {
   "provenance": [],
   "collapsed_sections": []
  },
  "kernelspec": {
   "name": "python3",
   "display_name": "Python 3"
  },
  "language_info": {
   "name": "python"
  }
 },
 "cells": [
  {
   "cell_type": "code",
   "execution_count": null,
   "metadata": {
    "id": "8Bp7c2AlO1qN",
    "pycharm": {
     "name": "#%%\n"
    }
   },
   "outputs": [],
   "source": [
    "import plotly.express as px\n",
    "import pandas as pd"
   ]
  },
  {
   "cell_type": "code",
   "source": [
    "gapminder = px.data.gapminder()"
   ],
   "metadata": {
    "id": "n6eKn0Ep-qeV",
    "pycharm": {
     "name": "#%%\n"
    }
   },
   "execution_count": null,
   "outputs": []
  },
  {
   "cell_type": "code",
   "source": [
    "gapminder.tail()"
   ],
   "metadata": {
    "id": "Zql7fl8k-07P",
    "pycharm": {
     "name": "#%%\n"
    }
   },
   "execution_count": null,
   "outputs": []
  },
  {
   "cell_type": "code",
   "source": [
    "px.scatter(data_frame = gapminder, x = 'gdpPercap',y = 'lifeExp')"
   ],
   "metadata": {
    "id": "SxCp5_EU-5op",
    "pycharm": {
     "name": "#%%\n"
    }
   },
   "execution_count": null,
   "outputs": []
  },
  {
   "cell_type": "code",
   "source": [
    "px.scatter(data_frame = gapminder, x = 'gdpPercap',y = 'lifeExp', size = 'pop')"
   ],
   "metadata": {
    "id": "_J65QFKx_b3C",
    "pycharm": {
     "name": "#%%\n"
    }
   },
   "execution_count": null,
   "outputs": []
  },
  {
   "cell_type": "code",
   "source": [
    "px.scatter(data_frame = gapminder, \n",
    "           x = 'gdpPercap',\n",
    "           y = 'lifeExp', \n",
    "           size = 'pop', \n",
    "           hover_name = 'country', \n",
    "           color = 'country')"
   ],
   "metadata": {
    "id": "axKPcLqM_nwY",
    "pycharm": {
     "name": "#%%\n"
    }
   },
   "execution_count": null,
   "outputs": []
  },
  {
   "cell_type": "code",
   "source": [
    "px.scatter(data_frame = gapminder, \n",
    "           x = 'gdpPercap',\n",
    "           y = 'lifeExp', \n",
    "           size = 'pop', \n",
    "           hover_name = 'country', \n",
    "           color = 'country',\n",
    "           animation_frame = 'year',\n",
    "           animation_group = 'country')"
   ],
   "metadata": {
    "id": "mIvdydRE_yb9",
    "pycharm": {
     "name": "#%%\n"
    }
   },
   "execution_count": null,
   "outputs": []
  },
  {
   "cell_type": "code",
   "source": [
    "px.scatter(data_frame = gapminder, \n",
    "           x = 'gdpPercap',\n",
    "           y = 'lifeExp', \n",
    "           size = 'pop', \n",
    "           hover_name = 'country', \n",
    "           color = 'country',\n",
    "           animation_frame = 'year',\n",
    "           animation_group = 'country',\n",
    "           range_x = [0,50000],\n",
    "           range_y = [20,90])"
   ],
   "metadata": {
    "id": "z0_5yXtmAaHO",
    "pycharm": {
     "name": "#%%\n"
    }
   },
   "execution_count": null,
   "outputs": []
  },
  {
   "cell_type": "code",
   "source": [],
   "metadata": {
    "id": "k5B1XizXBIIc",
    "pycharm": {
     "name": "#%%\n"
    }
   },
   "execution_count": null,
   "outputs": []
  }
 ]
}